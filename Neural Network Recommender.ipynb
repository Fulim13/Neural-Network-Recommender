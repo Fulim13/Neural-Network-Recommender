{
 "cells": [
  {
   "cell_type": "markdown",
   "id": "50f66da4-c023-4f4e-a837-9becfe154118",
   "metadata": {},
   "source": [
    "# Step 1: Import Libraries"
   ]
  },
  {
   "cell_type": "code",
   "execution_count": 1,
   "id": "48f7df09-631e-47d4-9b87-68a8f73f1a25",
   "metadata": {},
   "outputs": [],
   "source": [
    "import pandas as pd\n",
    "import numpy as np \n",
    "from tqdm.notebook import tqdm\n",
    "import torch\n",
    "import torch.nn as nn\n",
    "from torch.utils.data import Dataset, DataLoader\n",
    "from datetime import datetime\n",
    "import pickle\n",
    "from sklearn import preprocessing, model_selection\n",
    "from sklearn.metrics import root_mean_squared_error\n",
    "import matplotlib.pyplot as plt\n",
    "from collections import defaultdict\n",
    "from tqdm.notebook import tqdm\n",
    "import sys\n",
    "from tabulate import tabulate"
   ]
  },
  {
   "cell_type": "markdown",
   "id": "c9ec4bb8-22e2-4876-8954-32747e5156f2",
   "metadata": {},
   "source": [
    "# Step 2: Load Data"
   ]
  },
  {
   "cell_type": "code",
   "execution_count": 2,
   "id": "587c558e-5006-415a-a546-a3d09a530fa2",
   "metadata": {},
   "outputs": [],
   "source": [
    "# Load the ratings.csv file\n",
    "df = pd.read_csv(\"ratings.csv\")\n",
    "max = df['userId'].max()\n",
    "min =df['userId'].min()\n",
    "\n",
    "# Load the movies.csv file\n",
    "movies_df = pd.read_csv(\"movies.csv\")"
   ]
  },
  {
   "cell_type": "markdown",
   "id": "f66d444b-4c0c-4c18-8e78-1924fe420cc7",
   "metadata": {},
   "source": [
    "# Step 3: Define Pytorch Dataset"
   ]
  },
  {
   "cell_type": "code",
   "execution_count": 3,
   "id": "af53eec7-b473-427d-97c9-a32ee454c2d3",
   "metadata": {},
   "outputs": [],
   "source": [
    "class MovieLensDataset(Dataset):\n",
    "    def __init__(self, users, movies, ratings):\n",
    "        self.users = users\n",
    "        self.movies = movies\n",
    "        self.ratings = ratings\n",
    "\n",
    "    def __len__(self):\n",
    "        return len(self.users)\n",
    "\n",
    "    def __getitem__(self, item):\n",
    "        users = self.users[item]\n",
    "        movies = self.movies[item]\n",
    "        ratings = self.ratings[item]\n",
    "\n",
    "        return {\n",
    "            \"users\": torch.tensor(users, dtype=torch.long),\n",
    "            \"movies\": torch.tensor(movies, dtype=torch.long),\n",
    "            \"ratings\": torch.tensor(ratings, dtype=torch.float),\n",
    "        }"
   ]
  },
  {
   "cell_type": "markdown",
   "id": "632f9b1b-0453-4110-a0ec-8934bbad097b",
   "metadata": {},
   "source": [
    "# Step 4: Define Neural Network CF Model"
   ]
  },
  {
   "cell_type": "code",
   "execution_count": 4,
   "id": "830e05fb-215c-48c8-ba4c-9955a059d531",
   "metadata": {},
   "outputs": [],
   "source": [
    "class RecommendationSystemModel(nn.Module):\n",
    "    def __init__(\n",
    "        self,\n",
    "        num_users,\n",
    "        num_movies,\n",
    "        embedding_size=256,\n",
    "        hidden_dim=256,\n",
    "        dropout_rate=0.2,\n",
    "    ):\n",
    "        super(RecommendationSystemModel, self).__init__()\n",
    "        self.num_users = num_users\n",
    "        self.num_movies = num_movies\n",
    "        self.embedding_size = embedding_size\n",
    "        self.hidden_dim = hidden_dim\n",
    "\n",
    "        # Embedding layers\n",
    "        self.user_embedding = nn.Embedding(\n",
    "            num_embeddings=self.num_users, embedding_dim=self.embedding_size\n",
    "        )\n",
    "        self.movie_embedding = nn.Embedding(\n",
    "            num_embeddings=self.num_movies, embedding_dim=self.embedding_size\n",
    "        )\n",
    "\n",
    "        # Hidden layers\n",
    "        self.fc1 = nn.Linear(2 * self.embedding_size, self.hidden_dim)\n",
    "        self.fc2 = nn.Linear(self.hidden_dim, 1)\n",
    "\n",
    "        # Dropout layer\n",
    "        self.dropout = nn.Dropout(p=dropout_rate)\n",
    "\n",
    "        # Activation function\n",
    "        self.relu = nn.ReLU()\n",
    "\n",
    "    def forward(self, users, movies):\n",
    "        # Embeddings\n",
    "        user_embedded = self.user_embedding(users)\n",
    "        movie_embedded = self.movie_embedding(movies)\n",
    "\n",
    "        # Concatenate user and movie embeddings\n",
    "        combined = torch.cat([user_embedded, movie_embedded], dim=1)\n",
    "\n",
    "        # Pass through hidden layers with ReLU activation and dropout\n",
    "        x = self.relu(self.fc1(combined))\n",
    "        x = self.dropout(x)\n",
    "        output = self.fc2(x)\n",
    "\n",
    "        return output"
   ]
  },
  {
   "cell_type": "markdown",
   "id": "43d851ef-a8e2-4516-9da2-2e9d42ae17da",
   "metadata": {},
   "source": [
    "# Step 5: Data Preprocessing and Encoding"
   ]
  },
  {
   "cell_type": "code",
   "execution_count": 5,
   "id": "62cde2a6-f21b-4a12-a4ff-807b32b4e31a",
   "metadata": {},
   "outputs": [],
   "source": [
    "le_user = preprocessing.LabelEncoder()\n",
    "le_movie = preprocessing.LabelEncoder()\n",
    "df.userId = le_user.fit_transform(df.userId.values)\n",
    "df.movieId = le_movie.fit_transform(df.movieId.values)"
   ]
  },
  {
   "cell_type": "markdown",
   "id": "649f30e8-f852-4db5-bb3e-fa11e4f22fb8",
   "metadata": {},
   "source": [
    "# Step 6: Split Dataset"
   ]
  },
  {
   "cell_type": "code",
   "execution_count": 6,
   "id": "635a03a3-95c1-4998-a696-b545719e65ae",
   "metadata": {},
   "outputs": [],
   "source": [
    "df_train, df_val = model_selection.train_test_split(\n",
    "    df, test_size=0.1, random_state=3, stratify=df.rating.values\n",
    ")"
   ]
  },
  {
   "cell_type": "markdown",
   "id": "8be8feea-9131-4684-ba48-f4acf1c4844b",
   "metadata": {},
   "source": [
    "# Step 7: Creating Pytorch Dataset"
   ]
  },
  {
   "cell_type": "code",
   "execution_count": 7,
   "id": "5865db15-0488-4fa6-971c-d547390a242b",
   "metadata": {},
   "outputs": [],
   "source": [
    "train_dataset = MovieLensDataset(\n",
    "    users=df_train.userId.values,\n",
    "    movies=df_train.movieId.values,\n",
    "    ratings=df_train.rating.values,\n",
    ")\n",
    "\n",
    "valid_dataset = MovieLensDataset(\n",
    "    users=df_val.userId.values,\n",
    "    movies=df_val.movieId.values,\n",
    "    ratings=df_val.rating.values,\n",
    ")\n"
   ]
  },
  {
   "cell_type": "markdown",
   "id": "718a4223-d7bd-406b-9c72-17b612ccf9ac",
   "metadata": {},
   "source": [
    "# Step 8: Initializing Data Loaders"
   ]
  },
  {
   "cell_type": "code",
   "execution_count": 8,
   "id": "efa15ca7-4232-4fdc-9ed6-190299ca5a78",
   "metadata": {},
   "outputs": [],
   "source": [
    "BATCH_SIZE = 32\n",
    "\n",
    "train_loader = DataLoader(train_dataset, batch_size=BATCH_SIZE, shuffle=True, pin_memory=True)\n",
    "val_loader = DataLoader(valid_dataset, batch_size=BATCH_SIZE, shuffle=True, pin_memory=True)"
   ]
  },
  {
   "cell_type": "markdown",
   "id": "fec98aac-c115-428d-b5e8-a1f3db2ccdda",
   "metadata": {},
   "source": [
    "# Step 9: Training Loop"
   ]
  },
  {
   "cell_type": "code",
   "execution_count": 9,
   "id": "6abb00e1-cac2-4822-ba3c-a86f77808a4f",
   "metadata": {},
   "outputs": [
    {
     "name": "stdout",
     "output_type": "stream",
     "text": [
      "Training on 90752 samples...\n"
     ]
    },
    {
     "name": "stderr",
     "output_type": "stream",
     "text": [
      "20/20 | Step: 90752/90752 | Avg Loss: 0.031171627"
     ]
    }
   ],
   "source": [
    "device = torch.device(\"cuda\" if torch.cuda.is_available() else \"cpu\")\n",
    "recommendation_model = RecommendationSystemModel(\n",
    "    num_users=len(le_user.classes_), \n",
    "    num_movies=len(le_movie.classes_),\n",
    "    embedding_size=128,\n",
    "    hidden_dim=256,\n",
    "    dropout_rate=0.1,\n",
    ").to(device)\n",
    "\n",
    "optimizer = torch.optim.Adam(recommendation_model.parameters(), lr=1e-3)\n",
    "loss_func = nn.MSELoss()\n",
    "\n",
    "EPOCHS = 20\n",
    "\n",
    "# Function to log progress\n",
    "def log_progress(epoch, step, total_loss, log_progress_step, data_size, losses):\n",
    "    avg_loss = total_loss / log_progress_step\n",
    "    sys.stderr.write(\n",
    "        f\"\\r{epoch+1:02d}/{EPOCHS:02d} | Step: {step}/{data_size} | Avg Loss: {avg_loss:<6.9f}\"\n",
    "    )\n",
    "    sys.stderr.flush()\n",
    "    losses.append(avg_loss)\n",
    "\n",
    "total_loss = 0\n",
    "log_progress_step = 100\n",
    "losses = []\n",
    "train_dataset_size = len(train_dataset)\n",
    "print(f\"Training on {train_dataset_size} samples...\")\n",
    "\n",
    "recommendation_model.train()\n",
    "for e in range(EPOCHS):\n",
    "    step_count = 0  # Reset step count at the beginning of each epoch\n",
    "    for i, train_data in enumerate(train_loader):\n",
    "        output = recommendation_model(\n",
    "            train_data[\"users\"].to(device), train_data[\"movies\"].to(device)\n",
    "        )\n",
    "        # Reshape the model output to match the target's shape\n",
    "        output = output.squeeze()  # Removes the singleton dimension\n",
    "        ratings = (\n",
    "            train_data[\"ratings\"].to(torch.float32).to(device)\n",
    "        )  # Assuming ratings is already 1D\n",
    "        loss = loss_func(output, ratings)\n",
    "        total_loss += loss.sum().item()\n",
    "        optimizer.zero_grad()\n",
    "        loss.backward()\n",
    "        optimizer.step()\n",
    "\n",
    "        # Increment step count by the actual size of the batch\n",
    "        step_count += len(train_data[\"users\"])\n",
    "\n",
    "        # Check if it's time to log progress\n",
    "        if (\n",
    "            step_count % log_progress_step == 0 or i == len(train_loader) - 1\n",
    "        ):  # Log at the end of each epoch\n",
    "            log_progress(\n",
    "                e, step_count, total_loss, log_progress_step, train_dataset_size, losses\n",
    "            )\n",
    "            total_loss = 0"
   ]
  },
  {
   "cell_type": "markdown",
   "id": "33cae346-ff6c-48b4-a42f-cc3e9eae41ca",
   "metadata": {},
   "source": [
    "# Step 10: Save the Model for Future Use"
   ]
  },
  {
   "cell_type": "code",
   "execution_count": 10,
   "id": "16cbce3e-449a-4154-8d6f-32fd9482d57a",
   "metadata": {},
   "outputs": [],
   "source": [
    "torch.save(recommendation_model.state_dict(), \"recommendation_model.pt\")"
   ]
  },
  {
   "cell_type": "markdown",
   "id": "b889ddd7-83f9-439e-90b2-74b3ad8e44a9",
   "metadata": {},
   "source": [
    "# Step 11: Display Average Training Loss"
   ]
  },
  {
   "cell_type": "code",
   "execution_count": 11,
   "id": "3b0038bc-4c66-4341-9f39-2c25ad078ca5",
   "metadata": {},
   "outputs": [
    {
     "data": {
      "image/png": "[encoded data removed]",
      "text/plain": [
       "<Figure size 640x480 with 1 Axes>"
      ]
     },
     "metadata": {},
     "output_type": "display_data"
    }
   ],
   "source": [
    "plt.plot(losses)\n",
    "plt.xlabel(\"Steps\")\n",
    "plt.ylabel(\"Average Loss\")\n",
    "plt.title(\"Training Loss\")\n",
    "plt.show()"
   ]
  },
  {
   "cell_type": "markdown",
   "id": "639004c7-c4e9-4b2c-85dc-9bb195a3a9d6",
   "metadata": {},
   "source": [
    "# Step 12: Evaluation:"
   ]
  },
  {
   "cell_type": "markdown",
   "id": "455e1b68-d6c3-4fff-9edd-d23027dfdf93",
   "metadata": {},
   "source": [
    "## RMSE (Root Mean Square Error)"
   ]
  },
  {
   "cell_type": "code",
   "execution_count": 12,
   "id": "765f56d6-0ccf-4065-b435-6747e06999c4",
   "metadata": {},
   "outputs": [
    {
     "name": "stdout",
     "output_type": "stream",
     "text": [
      "rmse: 0.1788\n"
     ]
    }
   ],
   "source": [
    "y_pred = []\n",
    "y_true = []\n",
    "\n",
    "recommendation_model.eval()\n",
    "\n",
    "with torch.no_grad():\n",
    "    for i, valid_data in enumerate(val_loader):\n",
    "        output = recommendation_model(\n",
    "            valid_data[\"users\"].to(device), valid_data[\"movies\"].to(device)\n",
    "        )\n",
    "        y_pred.append(output.sum().item() / len(valid_data[\"users\"]))\n",
    "        ratings = valid_data[\"ratings\"]\n",
    "        y_true.append(ratings.sum().item() / len(valid_data[\"users\"]))\n",
    "\n",
    "rms = root_mean_squared_error(y_true, y_pred)\n",
    "print(f\"rmse: {rms:.4f}\")"
   ]
  },
  {
   "cell_type": "markdown",
   "id": "1722c218-2a22-43ba-9f99-b341f38e2080",
   "metadata": {},
   "source": [
    "## Precision@k and Recall@k"
   ]
  },
  {
   "cell_type": "code",
   "execution_count": 13,
   "id": "a26b8997-e106-412d-9a74-3a69a23bc173",
   "metadata": {},
   "outputs": [
    {
     "name": "stdout",
     "output_type": "stream",
     "text": [
      "precision @ 50: 0.8989\n",
      "recall @ 50: 0.8237\n"
     ]
    }
   ],
   "source": [
    "def calculate_precision_recall(user_ratings, k, threshold):\n",
    "    user_ratings.sort(key=lambda x: x[0], reverse=True)\n",
    "    n_rel = sum(true_r >= threshold for _, true_r in user_ratings)\n",
    "    n_rec_k = sum(est >= threshold for est, _ in user_ratings[:k])\n",
    "    n_rel_and_rec_k = sum((true_r >= threshold) and (est >= threshold) for est, true_r in user_ratings[:k])\n",
    "\n",
    "    precision = n_rel_and_rec_k / n_rec_k if n_rec_k != 0 else 1\n",
    "    recall = n_rel_and_rec_k / n_rel if n_rel != 0 else 1\n",
    "    return precision, recall\n",
    "\n",
    "user_ratings_comparison = defaultdict(list)\n",
    "\n",
    "with torch.no_grad():\n",
    "    for valid_data in val_loader:\n",
    "        users = valid_data[\"users\"].to(device)\n",
    "        movies = valid_data[\"movies\"].to(device)\n",
    "        ratings = valid_data[\"ratings\"].to(device)\n",
    "        output = recommendation_model(users, movies)\n",
    "\n",
    "        for user, pred, true in zip(users, output, ratings):\n",
    "            user_ratings_comparison[user.item()].append((pred[0].item(), true.item()))\n",
    "\n",
    "user_precisions = dict()\n",
    "user_based_recalls = dict()\n",
    "\n",
    "k = 50\n",
    "threshold = 3\n",
    "\n",
    "for user_id, user_ratings in user_ratings_comparison.items():\n",
    "    precision, recall = calculate_precision_recall(user_ratings, k, threshold)\n",
    "    user_precisions[user_id] = precision\n",
    "    user_based_recalls[user_id] = recall\n",
    "\n",
    "\n",
    "average_precision = sum(prec for prec in user_precisions.values()) / len(user_precisions)\n",
    "average_recall = sum(rec for rec in user_based_recalls.values()) / len(user_based_recalls)\n",
    "\n",
    "print(f\"precision @ {k}: {average_precision:.4f}\")\n",
    "print(f\"recall @ {k}: {average_recall:.4f}\")"
   ]
  },
  {
   "cell_type": "markdown",
   "id": "1e97ec25-c4a9-4060-a906-cd793ebbbc14",
   "metadata": {},
   "source": [
    "# Step 13: Recommend Top 5 Movies"
   ]
  },
  {
   "cell_type": "code",
   "execution_count": 14,
   "id": "844034d8-af0f-4c25-bccc-a752128b0766",
   "metadata": {},
   "outputs": [
    {
     "name": "stdin",
     "output_type": "stream",
     "text": [
      "Enter a user ID:  1\n"
     ]
    },
    {
     "name": "stdout",
     "output_type": "stream",
     "text": [
      "Movies you've seen:\n",
      "+-----------+--------------------------------------------------------------------------------+\n",
      "|   movieId | title                                                                          |\n",
      "|-----------+--------------------------------------------------------------------------------|\n",
      "|         1 | Toy Story (1995)                                                               |\n",
      "|         3 | Grumpier Old Men (1995)                                                        |\n",
      "|         6 | Heat (1995)                                                                    |\n",
      "|        47 | Seven (a.k.a. Se7en) (1995)                                                    |\n",
      "|        50 | Usual Suspects, The (1995)                                                     |\n",
      "|        70 | From Dusk Till Dawn (1996)                                                     |\n",
      "|       101 | Bottle Rocket (1996)                                                           |\n",
      "|       110 | Braveheart (1995)                                                              |\n",
      "|       151 | Rob Roy (1995)                                                                 |\n",
      "|       157 | Canadian Bacon (1995)                                                          |\n",
      "|       163 | Desperado (1995)                                                               |\n",
      "|       216 | Billy Madison (1995)                                                           |\n",
      "|       223 | Clerks (1994)                                                                  |\n",
      "|       231 | Dumb & Dumber (Dumb and Dumber) (1994)                                         |\n",
      "|       235 | Ed Wood (1994)                                                                 |\n",
      "|       260 | Star Wars: Episode IV - A New Hope (1977)                                      |\n",
      "|       296 | Pulp Fiction (1994)                                                            |\n",
      "|       316 | Stargate (1994)                                                                |\n",
      "|       333 | Tommy Boy (1995)                                                               |\n",
      "|       349 | Clear and Present Danger (1994)                                                |\n",
      "|       356 | Forrest Gump (1994)                                                            |\n",
      "|       362 | Jungle Book, The (1994)                                                        |\n",
      "|       367 | Mask, The (1994)                                                               |\n",
      "|       423 | Blown Away (1994)                                                              |\n",
      "|       441 | Dazed and Confused (1993)                                                      |\n",
      "|       457 | Fugitive, The (1993)                                                           |\n",
      "|       480 | Jurassic Park (1993)                                                           |\n",
      "|       500 | Mrs. Doubtfire (1993)                                                          |\n",
      "|       527 | Schindler's List (1993)                                                        |\n",
      "|       543 | So I Married an Axe Murderer (1993)                                            |\n",
      "|       552 | Three Musketeers, The (1993)                                                   |\n",
      "|       553 | Tombstone (1993)                                                               |\n",
      "|       590 | Dances with Wolves (1990)                                                      |\n",
      "|       592 | Batman (1989)                                                                  |\n",
      "|       593 | Silence of the Lambs, The (1991)                                               |\n",
      "|       596 | Pinocchio (1940)                                                               |\n",
      "|       608 | Fargo (1996)                                                                   |\n",
      "|       648 | Mission: Impossible (1996)                                                     |\n",
      "|       661 | James and the Giant Peach (1996)                                               |\n",
      "|       673 | Space Jam (1996)                                                               |\n",
      "|       733 | Rock, The (1996)                                                               |\n",
      "|       736 | Twister (1996)                                                                 |\n",
      "|       780 | Independence Day (a.k.a. ID4) (1996)                                           |\n",
      "|       804 | She's the One (1996)                                                           |\n",
      "|       919 | Wizard of Oz, The (1939)                                                       |\n",
      "|       923 | Citizen Kane (1941)                                                            |\n",
      "|       940 | Adventures of Robin Hood, The (1938)                                           |\n",
      "|       943 | Ghost and Mrs. Muir, The (1947)                                                |\n",
      "|       954 | Mr. Smith Goes to Washington (1939)                                            |\n",
      "|      1009 | Escape to Witch Mountain (1975)                                                |\n",
      "|      1023 | Winnie the Pooh and the Blustery Day (1968)                                    |\n",
      "|      1024 | Three Caballeros, The (1945)                                                   |\n",
      "|      1025 | Sword in the Stone, The (1963)                                                 |\n",
      "|      1029 | Dumbo (1941)                                                                   |\n",
      "|      1030 | Pete's Dragon (1977)                                                           |\n",
      "|      1031 | Bedknobs and Broomsticks (1971)                                                |\n",
      "|      1032 | Alice in Wonderland (1951)                                                     |\n",
      "|      1042 | That Thing You Do! (1996)                                                      |\n",
      "|      1049 | Ghost and the Darkness, The (1996)                                             |\n",
      "|      1060 | Swingers (1996)                                                                |\n",
      "|      1073 | Willy Wonka & the Chocolate Factory (1971)                                     |\n",
      "|      1080 | Monty Python's Life of Brian (1979)                                            |\n",
      "|      1089 | Reservoir Dogs (1992)                                                          |\n",
      "|      1090 | Platoon (1986)                                                                 |\n",
      "|      1092 | Basic Instinct (1992)                                                          |\n",
      "|      1097 | E.T. the Extra-Terrestrial (1982)                                              |\n",
      "|      1127 | Abyss, The (1989)                                                              |\n",
      "|      1136 | Monty Python and the Holy Grail (1975)                                         |\n",
      "|      1196 | Star Wars: Episode V - The Empire Strikes Back (1980)                          |\n",
      "|      1197 | Princess Bride, The (1987)                                                     |\n",
      "|      1198 | Raiders of the Lost Ark (Indiana Jones and the Raiders of the Lost Ark) (1981) |\n",
      "|      1206 | Clockwork Orange, A (1971)                                                     |\n",
      "|      1208 | Apocalypse Now (1979)                                                          |\n",
      "|      1210 | Star Wars: Episode VI - Return of the Jedi (1983)                              |\n",
      "|      1213 | Goodfellas (1990)                                                              |\n",
      "|      1214 | Alien (1979)                                                                   |\n",
      "|      1219 | Psycho (1960)                                                                  |\n",
      "|      1220 | Blues Brothers, The (1980)                                                     |\n",
      "|      1222 | Full Metal Jacket (1987)                                                       |\n",
      "|      1224 | Henry V (1989)                                                                 |\n",
      "|      1226 | Quiet Man, The (1952)                                                          |\n",
      "|      1240 | Terminator, The (1984)                                                         |\n",
      "|      1256 | Duck Soup (1933)                                                               |\n",
      "|      1258 | Shining, The (1980)                                                            |\n",
      "|      1265 | Groundhog Day (1993)                                                           |\n",
      "|      1270 | Back to the Future (1985)                                                      |\n",
      "|      1275 | Highlander (1986)                                                              |\n",
      "|      1278 | Young Frankenstein (1974)                                                      |\n",
      "|      1282 | Fantasia (1940)                                                                |\n",
      "|      1291 | Indiana Jones and the Last Crusade (1989)                                      |\n",
      "|      1298 | Pink Floyd: The Wall (1982)                                                    |\n",
      "|      1348 | Nosferatu (Nosferatu, eine Symphonie des Grauens) (1922)                       |\n",
      "|      1377 | Batman Returns (1992)                                                          |\n",
      "|      1396 | Sneakers (1992)                                                                |\n",
      "|      1408 | Last of the Mohicans, The (1992)                                               |\n",
      "|      1445 | McHale's Navy (1997)                                                           |\n",
      "|      1473 | Best Men (1997)                                                                |\n",
      "|      1500 | Grosse Pointe Blank (1997)                                                     |\n",
      "|      1517 | Austin Powers: International Man of Mystery (1997)                             |\n",
      "|      1552 | Con Air (1997)                                                                 |\n",
      "|      1573 | Face/Off (1997)                                                                |\n",
      "|      1580 | Men in Black (a.k.a. MIB) (1997)                                               |\n",
      "|      1587 | Conan the Barbarian (1982)                                                     |\n",
      "|      1617 | L.A. Confidential (1997)                                                       |\n",
      "|      1620 | Kiss the Girls (1997)                                                          |\n",
      "|      1625 | Game, The (1997)                                                               |\n",
      "|      1644 | I Know What You Did Last Summer (1997)                                         |\n",
      "|      1676 | Starship Troopers (1997)                                                       |\n",
      "|      1732 | Big Lebowski, The (1998)                                                       |\n",
      "|      1777 | Wedding Singer, The (1998)                                                     |\n",
      "|      1793 | Welcome to Woop-Woop (1997)                                                    |\n",
      "|      1804 | Newton Boys, The (1998)                                                        |\n",
      "|      1805 | Wild Things (1998)                                                             |\n",
      "|      1920 | Small Soldiers (1998)                                                          |\n",
      "|      1927 | All Quiet on the Western Front (1930)                                          |\n",
      "|      1954 | Rocky (1976)                                                                   |\n",
      "|      1967 | Labyrinth (1986)                                                               |\n",
      "|      2000 | Lethal Weapon (1987)                                                           |\n",
      "|      2005 | Goonies, The (1985)                                                            |\n",
      "|      2012 | Back to the Future Part III (1990)                                             |\n",
      "|      2018 | Bambi (1942)                                                                   |\n",
      "|      2028 | Saving Private Ryan (1998)                                                     |\n",
      "|      2033 | Black Cauldron, The (1985)                                                     |\n",
      "|      2046 | Flight of the Navigator (1986)                                                 |\n",
      "|      2048 | Great Mouse Detective, The (1986)                                              |\n",
      "|      2054 | Honey, I Shrunk the Kids (1989)                                                |\n",
      "|      2058 | Negotiator, The (1998)                                                         |\n",
      "|      2078 | Jungle Book, The (1967)                                                        |\n",
      "|      2090 | Rescuers, The (1977)                                                           |\n",
      "|      2093 | Return to Oz (1985)                                                            |\n",
      "|      2094 | Rocketeer, The (1991)                                                          |\n",
      "|      2096 | Sleeping Beauty (1959)                                                         |\n",
      "|      2099 | Song of the South (1946)                                                       |\n",
      "|      2105 | Tron (1982)                                                                    |\n",
      "|      2115 | Indiana Jones and the Temple of Doom (1984)                                    |\n",
      "|      2116 | Lord of the Rings, The (1978)                                                  |\n",
      "|      2137 | Charlotte's Web (1973)                                                         |\n",
      "|      2139 | Secret of NIMH, The (1982)                                                     |\n",
      "|      2141 | American Tail, An (1986)                                                       |\n",
      "|      2143 | Legend (1985)                                                                  |\n",
      "|      2161 | NeverEnding Story, The (1984)                                                  |\n",
      "|      2174 | Beetlejuice (1988)                                                             |\n",
      "|      2193 | Willow (1988)                                                                  |\n",
      "|      2253 | Toys (1992)                                                                    |\n",
      "|      2268 | Few Good Men, A (1992)                                                         |\n",
      "|      2273 | Rush Hour (1998)                                                               |\n",
      "|      2291 | Edward Scissorhands (1990)                                                     |\n",
      "|      2329 | American History X (1998)                                                      |\n",
      "|      2338 | I Still Know What You Did Last Summer (1998)                                   |\n",
      "|      2353 | Enemy of the State (1998)                                                      |\n",
      "|      2366 | King Kong (1933)                                                               |\n",
      "|      2387 | Very Bad Things (1998)                                                         |\n",
      "|      2389 | Psycho (1998)                                                                  |\n",
      "|      2395 | Rushmore (1998)                                                                |\n",
      "|      2406 | Romancing the Stone (1984)                                                     |\n",
      "|      2414 | Young Sherlock Holmes (1985)                                                   |\n",
      "|      2427 | Thin Red Line, The (1998)                                                      |\n",
      "|      2450 | Howard the Duck (1986)                                                         |\n",
      "|      2459 | Texas Chainsaw Massacre, The (1974)                                            |\n",
      "|      2470 | Crocodile Dundee (1986)                                                        |\n",
      "|      2478 | ¡Three Amigos! (1986)                                                          |\n",
      "|      2492 | 20 Dates (1998)                                                                |\n",
      "|      2502 | Office Space (1999)                                                            |\n",
      "|      2528 | Logan's Run (1976)                                                             |\n",
      "|      2529 | Planet of the Apes (1968)                                                      |\n",
      "|      2542 | Lock, Stock & Two Smoking Barrels (1998)                                       |\n",
      "|      2571 | Matrix, The (1999)                                                             |\n",
      "|      2580 | Go (1999)                                                                      |\n",
      "|      2596 | SLC Punk! (1998)                                                               |\n",
      "|      2616 | Dick Tracy (1990)                                                              |\n",
      "|      2617 | Mummy, The (1999)                                                              |\n",
      "|      2628 | Star Wars: Episode I - The Phantom Menace (1999)                               |\n",
      "|      2640 | Superman (1978)                                                                |\n",
      "|      2641 | Superman II (1980)                                                             |\n",
      "|      2644 | Dracula (1931)                                                                 |\n",
      "|      2648 | Frankenstein (1931)                                                            |\n",
      "|      2654 | Wolf Man, The (1941)                                                           |\n",
      "|      2657 | Rocky Horror Picture Show, The (1975)                                          |\n",
      "|      2692 | Run Lola Run (Lola rennt) (1998)                                               |\n",
      "|      2700 | South Park: Bigger, Longer and Uncut (1999)                                    |\n",
      "|      2716 | Ghostbusters (a.k.a. Ghost Busters) (1984)                                     |\n",
      "|      2761 | Iron Giant, The (1999)                                                         |\n",
      "|      2797 | Big (1988)                                                                     |\n",
      "|      2826 | 13th Warrior, The (1999)                                                       |\n",
      "|      2858 | American Beauty (1999)                                                         |\n",
      "|      2872 | Excalibur (1981)                                                               |\n",
      "|      2899 | Gulliver's Travels (1939)                                                      |\n",
      "|      2916 | Total Recall (1990)                                                            |\n",
      "|      2944 | Dirty Dozen, The (1967)                                                        |\n",
      "|      2947 | Goldfinger (1964)                                                              |\n",
      "|      2948 | From Russia with Love (1963)                                                   |\n",
      "|      2949 | Dr. No (1962)                                                                  |\n",
      "|      2959 | Fight Club (1999)                                                              |\n",
      "|      2985 | RoboCop (1987)                                                                 |\n",
      "|      2987 | Who Framed Roger Rabbit? (1988)                                                |\n",
      "|      2991 | Live and Let Die (1973)                                                        |\n",
      "|      2993 | Thunderball (1965)                                                             |\n",
      "|      2997 | Being John Malkovich (1999)                                                    |\n",
      "|      3033 | Spaceballs (1987)                                                              |\n",
      "|      3034 | Robin Hood (1973)                                                              |\n",
      "|      3052 | Dogma (1999)                                                                   |\n",
      "|      3053 | Messenger: The Story of Joan of Arc, The (1999)                                |\n",
      "|      3062 | Longest Day, The (1962)                                                        |\n",
      "|      3147 | Green Mile, The (1999)                                                         |\n",
      "|      3168 | Easy Rider (1969)                                                              |\n",
      "|      3176 | Talented Mr. Ripley, The (1999)                                                |\n",
      "|      3243 | Encino Man (1992)                                                              |\n",
      "|      3247 | Sister Act (1992)                                                              |\n",
      "|      3253 | Wayne's World (1992)                                                           |\n",
      "|      3273 | Scream 3 (2000)                                                                |\n",
      "|      3386 | JFK (1991)                                                                     |\n",
      "|      3439 | Teenage Mutant Ninja Turtles II: The Secret of the Ooze (1991)                 |\n",
      "|      3440 | Teenage Mutant Ninja Turtles III (1993)                                        |\n",
      "|      3441 | Red Dawn (1984)                                                                |\n",
      "|      3448 | Good Morning, Vietnam (1987)                                                   |\n",
      "|      3450 | Grumpy Old Men (1993)                                                          |\n",
      "|      3479 | Ladyhawke (1985)                                                               |\n",
      "|      3489 | Hook (1991)                                                                    |\n",
      "|      3527 | Predator (1987)                                                                |\n",
      "|      3578 | Gladiator (2000)                                                               |\n",
      "|      3617 | Road Trip (2000)                                                               |\n",
      "|      3639 | Man with the Golden Gun, The (1974)                                            |\n",
      "|      3671 | Blazing Saddles (1974)                                                         |\n",
      "|      3702 | Mad Max (1979)                                                                 |\n",
      "|      3703 | Road Warrior, The (Mad Max 2) (1981)                                           |\n",
      "|      3729 | Shaft (1971)                                                                   |\n",
      "|      3740 | Big Trouble in Little China (1986)                                             |\n",
      "|      3744 | Shaft (2000)                                                                   |\n",
      "|      3793 | X-Men (2000)                                                                   |\n",
      "|      3809 | What About Bob? (1991)                                                         |\n",
      "|      4006 | Transformers: The Movie (1986)                                                 |\n",
      "|      5060 | M*A*S*H (a.k.a. MASH) (1970)                                                   |\n",
      "+-----------+--------------------------------------------------------------------------------+\n"
     ]
    }
   ],
   "source": [
    "def recommend_top_n_movies(n):\n",
    "    while True:\n",
    "        original_user_id = int(input(\"Enter a user ID: \"))\n",
    "        if original_user_id <= max and original_user_id >= min:\n",
    "            break\n",
    "        else:\n",
    "            print(\"Invalid user ID. Please try again.\")\n",
    "        \n",
    "    user_id = le_user.transform([original_user_id])[0]\n",
    "    \n",
    "    all_movie_ids = set(df.movieId.unique())\n",
    "    \n",
    "    seen_movie_ids = set(df[df.userId == user_id].movieId.unique())\n",
    "    \n",
    "    original_seen_movie_ids = le_movie.inverse_transform(list(seen_movie_ids))\n",
    "    \n",
    "    seen_movies = movies_df[movies_df['movieId'].isin(original_seen_movie_ids)]\n",
    "    \n",
    "    # Print the seen movies\n",
    "    print(\"Movies you've seen:\")\n",
    "    print(tabulate(seen_movies[['movieId', 'title']], headers='keys', tablefmt='psql', showindex=False))\n",
    "    \n",
    "    unseen_movie_ids = all_movie_ids - seen_movie_ids\n",
    "    unseen_movie_ids = list(unseen_movie_ids)\n",
    "    \n",
    "    users = [user_id] * len(unseen_movie_ids)\n",
    "    movies = unseen_movie_ids\n",
    "    ratings = [0] * len(unseen_movie_ids)  # dummy ratings\n",
    "    \n",
    "    dataset = MovieLensDataset(users, movies, ratings)\n",
    "    data_loader = DataLoader(dataset, batch_size=BATCH_SIZE, shuffle=False, pin_memory=True)\n",
    "    \n",
    "    recommendation_model.eval()\n",
    "    predicted_ratings = []\n",
    "    with torch.no_grad():\n",
    "        for data in data_loader:\n",
    "            output = recommendation_model(data[\"users\"].to(device), data[\"movies\"].to(device))\n",
    "            predicted_ratings.extend(output.squeeze().tolist())\n",
    "    \n",
    "    movie_ratings = list(zip(unseen_movie_ids, predicted_ratings))\n",
    "    \n",
    "    movie_ratings.sort(key=lambda x: x[1], reverse=True)\n",
    "    \n",
    "    top_n_movie_ids = []\n",
    "    top_n_movie_names = []\n",
    "    for movie_id, _ in movie_ratings:\n",
    "        if movie_id in movies_df.movieId.values:\n",
    "            top_n_movie_ids.append(movie_id)\n",
    "            movie_index = movies_df[movies_df.movieId == movie_id].index[0]\n",
    "            top_n_movie_names.append(movies_df.title.values[movie_index])\n",
    "            if len(top_n_movie_ids) == n:\n",
    "                break\n",
    "\n",
    "    return top_n_movie_ids,top_n_movie_names\n",
    "\n",
    "\n",
    "n = 5  \n",
    "top_n_ids ,top_n_movies = recommend_top_n_movies(n)"
   ]
  },
  {
   "cell_type": "code",
   "execution_count": 15,
   "id": "bb352ef5-8b39-47cc-afe6-d6b750e2cecf",
   "metadata": {},
   "outputs": [
    {
     "name": "stdout",
     "output_type": "stream",
     "text": [
      "\n",
      "Based on your user preference above, we recommend the following top 5 movies for you:\n",
      "1. Elling (2001) (ID: 5890)\n",
      "2. Modern Problems (1981) (ID: 5768)\n",
      "3. It Came from Outer Space (1953) (ID: 2661)\n",
      "4. Moby Dick (1956) (ID: 4429)\n",
      "5. Happy Go Lovely (1951) (ID: 3315)\n"
     ]
    }
   ],
   "source": [
    "print(f\"\\nBased on your user preference above, we recommend the following top {n} movies for you:\")\n",
    "for i in range(n):\n",
    "    print(f\"{i+1}. {top_n_movies[i]} (ID: {top_n_ids[i]})\")"
   ]
  },
  {
   "cell_type": "code",
   "execution_count": null,
   "id": "7f6df378-7157-4374-bc6a-ed780be73585",
   "metadata": {},
   "outputs": [],
   "source": []
  }
 ],
 "metadata": {
  "kernelspec": {
   "display_name": "Python 3 (ipykernel)",
   "language": "python",
   "name": "python3"
  },
  "language_info": {
   "codemirror_mode": {
    "name": "ipython",
    "version": 3
   },
   "file_extension": ".py",
   "mimetype": "text/x-python",
   "name": "python",
   "nbconvert_exporter": "python",
   "pygments_lexer": "ipython3",
   "version": "3.11.9"
  }
 },
 "nbformat": 4,
 "nbformat_minor": 5
}
